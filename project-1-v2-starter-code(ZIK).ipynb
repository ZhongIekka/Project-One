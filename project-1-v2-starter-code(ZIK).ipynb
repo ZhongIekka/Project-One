{
 "cells": [
  {
   "cell_type": "markdown",
   "metadata": {},
   "source": [
    "<img src=\"http://imgur.com/1ZcRyrc.png\" style=\"float: left; margin: 15px; height: 80px\">\n",
    "\n",
    "# Project 1\n",
    "\n",
    "### Building \"Pokemon Stay\"\n",
    "\n",
    "---\n",
    "You are an analyst at a \"scrappy\" online gaming company that specializes in remakes of last year's fads.\n",
    "\n",
    "Your boss, who runs the product development team, is convinced that Pokemon Go's fatal flaw was that you had to actually move around outside. She has design mock-ups for a new game called Pokemon Stay: in this version players still need to move, but just from website to website. Pokemon gyms are now popular online destinations, and catching Pokemon in the \"wild\" simply requires browsing the internet for hours in the comfort of your home.\n",
    "\n",
    "She wants you to program a prototype version of the game, and analyze the planned content to help the team calibrate the design."
   ]
  },
  {
   "cell_type": "markdown",
   "metadata": {},
   "source": [
    "#### Package imports\n",
    "\n",
    "The pprint package below is the only package imported here, and it's not even strictly required to do any of the project. Printing python variables and objects with pprint can help to format them in a \"prettier\" way."
   ]
  },
  {
   "cell_type": "code",
   "execution_count": 143,
   "metadata": {
    "collapsed": true
   },
   "outputs": [],
   "source": [
    "from pprint import pprint"
   ]
  },
  {
   "cell_type": "markdown",
   "metadata": {},
   "source": [
    "<img src=\"http://imgur.com/l5NasQj.png\" style=\"float: left; margin: 25px 15px 0px 0px; height: 25px\">\n",
    "\n",
    "## 1. Defining a player\n",
    "\n",
    "---\n",
    "\n",
    "The player variables are:\n",
    "\n",
    "    player_id : id code unique to each player (integer)\n",
    "    player_name : entered name of the player (string)\n",
    "    time_played : number of time played the game in minutes (float)\n",
    "    player_pokemon: the player's captured pokemon (dictionary)\n",
    "    gyms_visited: ids of the gyms that a player has visited (list)\n",
    "    \n",
    "Create the components for a player object by defining each of these variables. The dictionary and list variables should just be defined as empty; you can use any (correctly typed) values for the others."
   ]
  },
  {
   "cell_type": "code",
   "execution_count": 144,
   "metadata": {},
   "outputs": [
    {
     "name": "stdout",
     "output_type": "stream",
     "text": [
      "['player_id', 1, 'player_name', 'Ash Tray', 'time_played', 0.0, 'player_pokemon', {}, 'gyms_visited', []]\n"
     ]
    }
   ],
   "source": [
    "#player_id==1\n",
    "#player_name=='Ash Tray'\n",
    "#time_played==0.0 \n",
    "#player_pokemon=={}\n",
    "#gyms_visited==[]\n",
    "\n",
    "p1_raw_data = 'player_id=1,player_name=Ash Tray,time_played=0.0,player_pokemon= ,gyms_visited= '\n",
    "\n",
    "def player_data_processor(player_raw_data):\n",
    "    \n",
    "    player_data_split = player_raw_data.split(\",\")\n",
    "    player_transferred_data = []\n",
    "    player_processed_data = []\n",
    "    pokemon_name = {}\n",
    "    gyms_visited = []\n",
    "    \n",
    "    for string in player_data_split:\n",
    "        player_transferred_data.extend(string.split('='))\n",
    "    \n",
    "    for i, value in enumerate(player_transferred_data):\n",
    "        \n",
    "        if i == 0:\n",
    "            player_processed_data.append(value)\n",
    "        elif i == 1:\n",
    "            player_processed_data.append(int(value))\n",
    "        elif i in [2, 3, 4]:\n",
    "            player_processed_data.append(value)\n",
    "        elif i == 5:\n",
    "            player_processed_data.append(float(value))\n",
    "        elif i == 6:\n",
    "            player_processed_data.append(value)\n",
    "        elif i == 7:\n",
    "            player_processed_data.append(pokemon_name)\n",
    "        elif i == 8:\n",
    "            player_processed_data.append(value)\n",
    "        elif i == 9:\n",
    "            player_processed_data.append(gyms_visited)\n",
    "    \n",
    "    return player_processed_data\n",
    "    \n",
    "p1_processed_data = player_data_processor(p1_raw_data)\n",
    "\n",
    "print p1_processed_data\n",
    "    \n"
   ]
  },
  {
   "cell_type": "markdown",
   "metadata": {},
   "source": [
    "<img src=\"http://imgur.com/l5NasQj.png\" style=\"float: left; margin: 25px 15px 0px 0px; height: 25px\">\n",
    "\n",
    "## 2. Defining \"gym\" locations\n",
    "\n",
    "---\n",
    "\n",
    "As the sole programmer, Pokemon Stay will have to start small. To begin, there will be 10 different gym location websites on the internet. The gym locations are:\n",
    "\n",
    "    1. 'reddit.com'\n",
    "    2. 'amazon.com'\n",
    "    3. 'twitter.com'\n",
    "    4. 'linkedin.com'\n",
    "    5. 'ebay.com'\n",
    "    6. 'netflix.com'\n",
    "    7. 'sporcle.com'\n",
    "    8. 'stackoverflow.com'\n",
    "    9. 'github.com'\n",
    "    10. 'quora.com'\n",
    "\n",
    "1. Set up a list of all the gym locations. This will be a list of strings.\n",
    "2. Append two of these locations to your player's list of visited gyms.\n",
    "3. Print the list."
   ]
  },
  {
   "cell_type": "code",
   "execution_count": 145,
   "metadata": {
    "collapsed": true
   },
   "outputs": [],
   "source": [
    "gym_locations = ['reddit.com','amazon.com','twitter.com','linkedin.com','ebay.com','netflix.com','sporcle.com','stackoverflow.com','github.com','quora.com']\n"
   ]
  },
  {
   "cell_type": "markdown",
   "metadata": {},
   "source": [
    "<img src=\"http://imgur.com/l5NasQj.png\" style=\"float: left; margin: 25px 15px 0px 0px; height: 25px\">\n",
    "\n",
    "## 3. Create a pokedex\n",
    "\n",
    "---\n",
    "\n",
    "We also need to create some pokemon to catch. Each pokemon will be defined by these variables:\n",
    "\n",
    "    pokemon_id : unique identifier for each pokemon (integer)\n",
    "    name : the name of the pokemon (string)\n",
    "    type : the category of pokemon (string)\n",
    "    hp : base hitpoints (integer)\n",
    "    attack : base attack (integer)\n",
    "    defense : base defense (integer)\n",
    "    special_attack : base special attack (integer)\n",
    "    special_defense : base sepecial defense (integer)\n",
    "    speed : base speed (integer)\n",
    "\n",
    "We are only going to create 3 different pokemon with these `pokemon_id` and `pokemon_name` values:\n",
    "\n",
    "    1 : 'charmander'\n",
    "    2 : 'squirtle'\n",
    "    3 : 'bulbasaur'\n",
    "\n",
    "Create a dictionary that will contain the pokemon. The keys of the dictionary will be the `pokemon_id` and the values will themselves dictionaries that contain the other pokemon variables. The structure of the pokedex dictionary will start like so:\n",
    "     \n",
    "     {\n",
    "         1: {\n",
    "                 'name':'charmander',\n",
    "                 'type':'fire',\n",
    "                 ...\n",
    "                 \n",
    "The `type` of charmander, squirtle, and bulbasaur should be `'fire'`, `'water'`, and `'poison'` respectively. The other values are up to you, make them anything you like!\n",
    "\n",
    "Print (or pretty print) the pokedex dictionary with the 3 pokemon."
   ]
  },
  {
   "cell_type": "code",
   "execution_count": 146,
   "metadata": {},
   "outputs": [
    {
     "name": "stdout",
     "output_type": "stream",
     "text": [
      "{1: {'Attack': 25,\n",
      "     'Defense': 10,\n",
      "     'Hp': 150,\n",
      "     'Name': 'Charmander',\n",
      "     'Special_attack': 35,\n",
      "     'Special_defense': 15,\n",
      "     'Speed': 5,\n",
      "     'Type': 'Fire'},\n",
      " 2: {'Attack': 25,\n",
      "     'Defense': 10,\n",
      "     'Hp': 150,\n",
      "     'Name': 'Squirtle',\n",
      "     'Special_attack': 35,\n",
      "     'Special_defense': 15,\n",
      "     'Speed': 5,\n",
      "     'Type': 'water'},\n",
      " 3: {'Attack': 25,\n",
      "     'Defense': 10,\n",
      "     'Hp': 150,\n",
      "     'Name': 'Bulbasaur',\n",
      "     'Special_attack': 35,\n",
      "     'Special_defense': 15,\n",
      "     'Speed': 5,\n",
      "     'Type': 'Poison'}}\n"
     ]
    }
   ],
   "source": [
    "#pokemon_id : unique identifier for each pokemon (integer)\n",
    "#name : the name of the pokemon (string)\n",
    "#type : the category of pokemon (string)\n",
    "#hp : base hitpoints (integer)\n",
    "#attack : base attack (integer)\n",
    "#defense : base defense (integer)\n",
    "#special_attack : base special attack (integer)\n",
    "#special_defense : base sepecial defense (integer)\n",
    "#speed : base speed (integer)\n",
    "\n",
    "charmander = {'Name':'Charmander','Type':'Fire','Hp':150,'Attack':25,\n",
    "              'Defense':10,'Special_attack':35,'Special_defense':15,\n",
    "              'Speed':5}\n",
    "squirtle = {'Name':'Squirtle','Type':'water','Hp':150,'Attack':25,\n",
    "              'Defense':10,'Special_attack':35,'Special_defense':15,\n",
    "              'Speed':5}\n",
    "bulbasaur = {'Name':'Bulbasaur','Type':'Poison','Hp':150,'Attack':25,\n",
    "              'Defense':10,'Special_attack':35,'Special_defense':15,\n",
    "              'Speed':5}\n",
    "\n",
    "pokedex = {1:charmander, 2:squirtle, 3:bulbasaur}   \n",
    "pprint(pokedex)"
   ]
  },
  {
   "cell_type": "markdown",
   "metadata": {},
   "source": [
    "<img src=\"http://imgur.com/l5NasQj.png\" style=\"float: left; margin: 25px 15px 0px 0px; height: 25px\">\n",
    "\n",
    "## 4. Create a data structure for players\n",
    "\n",
    "---\n",
    "\n",
    "### 4.1 \n",
    "\n",
    "In order to maintain a database of multiple players, create a dictionary that keeps track of players indexed by `player_id`. \n",
    "\n",
    "The keys of the dictionary will be `player_id` and values will be dictionaries containing each player's variables (from question 1). \n",
    "\n",
    "Construct the `players` dictionary and insert the player that you defined in question 1, then print `players`."
   ]
  },
  {
   "cell_type": "code",
   "execution_count": 147,
   "metadata": {},
   "outputs": [
    {
     "name": "stdout",
     "output_type": "stream",
     "text": [
      "{1: {'gyms_visited': [],\n",
      "     'player_name': 'Ash Tray',\n",
      "     'player_pokemon': {},\n",
      "     'time_played': 0.0}}\n"
     ]
    }
   ],
   "source": [
    "\n",
    "#player_processed_data = ['player_id', '1', 'player_name', 'OsmosisJones', \n",
    "#                        'time_played', '0.0', 'player_pokemon', '{}', \n",
    "#                        'gyms_visited', '[]']\n",
    "\n",
    "player_pokedex = {}\n",
    "\n",
    "def player_record(player_processed_data):\n",
    "        \n",
    "    list_keys = []\n",
    "    list_values = [] \n",
    "    \n",
    "    for i, value in enumerate(player_processed_data):\n",
    "   \n",
    "        if i > 1: \n",
    "            if i % 2 == 0:\n",
    "                list_keys.append(value)\n",
    "            else:\n",
    "                list_values.append(value)\n",
    "    \n",
    "        player_info = dict(zip(list_keys, list_values))\n",
    "\n",
    "    for i, value in enumerate(player_processed_data):\n",
    "        if i == 1 and value not in player_pokedex:\n",
    "            player_pokedex[value] = player_info\n",
    "          \n",
    "    return player_pokedex\n",
    "\n",
    "player_record(p1_processed_data)\n",
    "\n",
    "pprint(player_pokedex)"
   ]
  },
  {
   "cell_type": "markdown",
   "metadata": {},
   "source": [
    "---\n",
    "\n",
    "### 4.2\n",
    "\n",
    "Create a new player with `player_id = 2` in the `players` dictionary. Leave the `'player_pokemon'` dictionary empty. Append `'alcatraz'` and `'pacific_beach'` to the `'gyms_visited'` list for player 2.\n",
    "\n",
    "The `'player_name'` and `'time_played'` values are up to you, but must be a string and float, respectively.\n",
    "\n",
    "Remember, the player_id is the key for the player in the players dictionary.\n",
    "\n",
    "Print the `players` dictionary with the new player inserted."
   ]
  },
  {
   "cell_type": "code",
   "execution_count": 148,
   "metadata": {},
   "outputs": [
    {
     "name": "stdout",
     "output_type": "stream",
     "text": [
      "['player_id', 2, 'player_name', 'Misty Mountain', 'time_played', 1.0, 'player_pokemon', {}, 'gyms_visited', ['alcatraz', 'pacific_beach']]\n",
      "{1: {'gyms_visited': [],\n",
      "     'player_name': 'Ash Tray',\n",
      "     'player_pokemon': {},\n",
      "     'time_played': 0.0},\n",
      " 2: {'gyms_visited': ['alcatraz', 'pacific_beach'],\n",
      "     'player_name': 'Misty Mountain',\n",
      "     'player_pokemon': {},\n",
      "     'time_played': 1.0}}\n"
     ]
    }
   ],
   "source": [
    "p2_raw_data = 'player_id,2,player_name,Misty Mountain,time_played,1.0,player_pokemon, ,gyms_visited, '\n",
    "\n",
    "p2_processed_data = player_data_processor(p2_raw_data)\n",
    "\n",
    "p2_gyms_visited = ['alcatraz', 'pacific_beach']\n",
    "\n",
    "for gym in p2_gyms_visited:\n",
    "    \n",
    "    p2_processed_data[9].append(gym)\n",
    "    \n",
    "print p2_processed_data\n",
    "\n",
    "player_record(p2_processed_data)\n",
    "\n",
    "pprint(player_pokedex)"
   ]
  },
  {
   "cell_type": "markdown",
   "metadata": {},
   "source": [
    "<img src=\"http://imgur.com/l5NasQj.png\" style=\"float: left; margin: 25px 15px 0px 0px; height: 25px\">\n",
    "\n",
    "## 5. Add captured pokemon for each player\n",
    "\n",
    "---\n",
    "\n",
    "The `'player_pokemon'` keyed dictionaries for each player keep track of which of the pokemon each player has.\n",
    "\n",
    "The keys of the `'player_pokemon'` dictionaries are the pokemon ids that correspond to the ids in the `pokedex` dictionary you created earlier. The values are integers specifying the stats for the pokemon.\n",
    "\n",
    "Give player 1 a squirtle. Give player 2 charmander and a bulbasaur.\n",
    "\n",
    "Print the players dictionary after adding the pokemon for each player.\n"
   ]
  },
  {
   "cell_type": "code",
   "execution_count": 149,
   "metadata": {
    "scrolled": false
   },
   "outputs": [
    {
     "name": "stdout",
     "output_type": "stream",
     "text": [
      "{1: {'gyms_visited': [],\n",
      "     'player_name': 'Ash Tray',\n",
      "     'player_pokemon': {2: {'Attack': 25,\n",
      "                            'Defense': 10,\n",
      "                            'Hp': 150,\n",
      "                            'Name': 'Squirtle',\n",
      "                            'Special_attack': 35,\n",
      "                            'Special_defense': 15,\n",
      "                            'Speed': 5,\n",
      "                            'Type': 'water'}},\n",
      "     'time_played': 0.0},\n",
      " 2: {'gyms_visited': ['alcatraz', 'pacific_beach'],\n",
      "     'player_name': 'Misty Mountain',\n",
      "     'player_pokemon': {1: {'Attack': 25,\n",
      "                            'Defense': 10,\n",
      "                            'Hp': 150,\n",
      "                            'Name': 'Charmander',\n",
      "                            'Special_attack': 35,\n",
      "                            'Special_defense': 15,\n",
      "                            'Speed': 5,\n",
      "                            'Type': 'Fire'},\n",
      "                        3: {'Attack': 25,\n",
      "                            'Defense': 10,\n",
      "                            'Hp': 150,\n",
      "                            'Name': 'Bulbasaur',\n",
      "                            'Special_attack': 35,\n",
      "                            'Special_defense': 15,\n",
      "                            'Speed': 5,\n",
      "                            'Type': 'Poison'}},\n",
      "     'time_played': 1.0}}\n"
     ]
    }
   ],
   "source": [
    "# function that allows the pokemon caught by each player dictionary to be \n",
    "# updated in the player dictionary\n",
    "\n",
    "def pokemon_caught(player_num, *args):\n",
    "    \n",
    "    for key, value in player_pokedex.items():\n",
    "        if key == player_num:\n",
    "            for k, v in value.items():\n",
    "                if type(v) is dict:\n",
    "                    for arg in args:\n",
    "                        if arg not in v:\n",
    "                            v[arg] = pokedex[arg]                    \n",
    "            return player_pokedex\n",
    "\n",
    "player_pokedex = pokemon_caught(1, 2)\n",
    "player_pokedex = pokemon_caught(2, 1, 3)\n",
    "\n",
    "pprint(player_pokedex)\n",
    "\n",
    "\n"
   ]
  },
  {
   "cell_type": "markdown",
   "metadata": {},
   "source": [
    "\n",
    "\n",
    "## 6. What gyms have players visited?\n",
    "\n",
    "---\n",
    "<img src=\"http://imgur.com/l5NasQj.png\" style=\"float: left; margin: 25px 15px 0px 0px; height: 25px\">\n",
    "### 6.1\n",
    "\n",
    "Write a for-loop that:\n",
    "\n",
    "1. Iterates through the `pokemon_gyms` list of gym locations you defined before.\n",
    "2. For each gym, iterate through each player in the `players` dictionary with a second, internal for-loop.\n",
    "3. If the player has visited the gym, print out \"[player] has visited [gym location].\", filling in [player] and [gym location] with the current player's name and current gym location."
   ]
  },
  {
   "cell_type": "code",
   "execution_count": 150,
   "metadata": {
    "collapsed": true
   },
   "outputs": [],
   "source": [
    "#print gym_locations\n",
    "#pprint(player_pokedex)\n",
    "\n",
    "for gym in gym_locations:\n",
    "    for player, details in player_pokedex.items():\n",
    "        if gym in details['gyms_visited']:\n",
    "            print details['player_name'], 'has visited', gym\n",
    "        "
   ]
  },
  {
   "cell_type": "markdown",
   "metadata": {},
   "source": [
    "<img src=\"http://imgur.com/xDpSobf.png\" style=\"float: left; margin: 25px 15px 0px 0px; height: 25px\">\n",
    "### 6.2\n",
    "\n",
    "How many times did that loop run? If you have N gyms and also N players, how many times would it run as a function of N?\n",
    "\n",
    "Can you think of a more efficient way to accomplish the same thing? \n",
    "\n",
    "(You can write your answer as Markdown text.)"
   ]
  },
  {
   "cell_type": "code",
   "execution_count": 151,
   "metadata": {
    "collapsed": true
   },
   "outputs": [],
   "source": [
    "#The loop ran 20 times. 1 time for each gym in existence for each player, \n",
    "#totalling to 20 times for 10 gyms for 2 players.\n",
    "\n",
    "# N gyms with N players would cause the loop to run N * N times.\n",
    "\n",
    "\n"
   ]
  },
  {
   "cell_type": "markdown",
   "metadata": {},
   "source": [
    "<img src=\"http://imgur.com/l5NasQj.png\" style=\"float: left; margin: 25px 15px 0px 0px; height: 25px\">\n",
    "\n",
    "## 7. Calculate player \"power\".\n",
    "\n",
    "---\n",
    "\n",
    "Define a function that will calculate a player's \"power\". Player power is defined as the sum of the base statistics all of their pokemon.\n",
    "\n",
    "Your function will:\n",
    "\n",
    "1. Accept the `players` dictionary, `pokedex` dictionary, and a player_id as arguments.\n",
    "2. For the specified player_id, look up that player's pokemon and their level(s).\n",
    "3. Find and aggregate the attack and defense values for each of the player's pokemon from the `pokedex` dictionary.\n",
    "4. Print \"[player name]'s power is [player power].\", where the player power is the sum of the base statistics for all of their pokemon.\n",
    "5. Return the player's power value.\n",
    "\n",
    "Print out the pokemon power for each of your players."
   ]
  },
  {
   "cell_type": "code",
   "execution_count": 178,
   "metadata": {
    "scrolled": false
   },
   "outputs": [
    {
     "name": "stdout",
     "output_type": "stream",
     "text": [
      "Player power is:  185\n",
      "Player power is:  370\n",
      "None\n",
      "None\n"
     ]
    }
   ],
   "source": [
    "#pprint(player_pokedex)\n",
    "#print player_pokedex.keys()\n",
    "#print pokedex\n",
    "\n",
    "def player_power(player_pokedex, pokedex, player_num):\n",
    "\n",
    "    total_power = []\n",
    "\n",
    "    for key, value in player_pokedex.items():\n",
    "        if key == player_num:\n",
    "            for k, v in value.items():\n",
    "                if type(v) is dict:\n",
    "                    for x,y in v.items():\n",
    "                        for a,b in y.items():\n",
    "                            if a in ['Attack','Defense','Hp']:\n",
    "                                total_power.append(b)\n",
    "                    \n",
    "                    print \"Player power is: \", (sum(total_power))\n",
    "                             \n",
    "\n",
    "player1_power = player_power(player_pokedex, pokedex, 1)\n",
    "player2_power = player_power(player_pokedex, pokedex, 2)\n",
    "\n",
    "print(player1_power)\n",
    "print(player2_power)\n",
    "     \n",
    "        "
   ]
  },
  {
   "cell_type": "markdown",
   "metadata": {
    "collapsed": true
   },
   "source": [
    "<img src=\"http://imgur.com/l5NasQj.png\" style=\"float: left; margin: 25px 15px 0px 0px; height: 25px\">\n",
    "\n",
    "## 8. Load a pokedex file containing all the pokemon\n",
    "\n",
    "---\n",
    "\n",
    "### 8.1\n",
    "\n",
    "While you were putting together the prototype code, your colleagues were preparing a dataset of Pokemon and their attributes. (This was a rush job, so they may have picked some crazy values for some...)\n",
    "\n",
    "The code below loads information from a comma separated value (csv) file. You need to parse this string into a more useable format. The format of the string is:\n",
    "\n",
    "- Rows are separated by newline characters: \\n\n",
    "- Columns are separated by commas: ,\n",
    "- All cells in the csv are double quoted. Ex: \"PokedexNumber\" is the first cell of the first row.\n",
    "\n",
    "\n",
    "Using for-loops, create a list of lists where each list within the overall list is a row of the csv/matrix, and each element in that list is a cell in that row. Additional criteria:\n",
    "\n",
    "1. Quotes are removed from each cell item.\n",
    "2. Numeric column values are converted to floats.\n",
    "3. There are some cells that are empty and have no information. For these cells put a -1 value in place.\n",
    "\n",
    "Your end result is effectively a matrix. Each list in the outer list is a row, and the *j*th elements of list together form the *j*th column, which represents a data attribute. The first three lists in your pokedex list should look like this:\n",
    "\n",
    "    ['PokedexNumber', 'Name', 'Type', 'Total', 'HP', 'Attack', 'Defense', 'SpecialAttack', 'SpecialDefense', 'Speed']\n",
    "    [1.0, 'Bulbasaur', 'GrassPoison', 318.0, 45.0, 49.0, 49.0, 65.0, 65.0, 45.0]\n",
    "    [2.0, 'Ivysaur', 'GrassPoison', 405.0, 60.0, 62.0, 63.0, 80.0, 80.0, 60.0]"
   ]
  },
  {
   "cell_type": "code",
   "execution_count": 153,
   "metadata": {
    "collapsed": true
   },
   "outputs": [],
   "source": [
    "# Code to read in pokedex info\n",
    "raw_pd = './pokedex_basic.csv'\n",
    "pokedex_file = raw_pd\n",
    "with open(pokedex_file, 'r') as f:\n",
    "    raw_pd = f.read()\n",
    "    \n",
    "# the pokedex string is assigned to the raw_pd variable\n"
   ]
  },
  {
   "cell_type": "code",
   "execution_count": 187,
   "metadata": {},
   "outputs": [
    {
     "ename": "AttributeError",
     "evalue": "'float' object has no attribute 'isdigit'",
     "output_type": "error",
     "traceback": [
      "\u001b[1;31m---------------------------------------------------------------------------\u001b[0m",
      "\u001b[1;31mAttributeError\u001b[0m                            Traceback (most recent call last)",
      "\u001b[1;32m<ipython-input-187-534e9ef9d927>\u001b[0m in \u001b[0;36m<module>\u001b[1;34m()\u001b[0m\n\u001b[0;32m     22\u001b[0m             \u001b[1;32mfor\u001b[0m \u001b[0mx\u001b[0m\u001b[1;33m,\u001b[0m \u001b[0my\u001b[0m \u001b[1;32min\u001b[0m \u001b[0menumerate\u001b[0m\u001b[1;33m(\u001b[0m\u001b[0mb\u001b[0m\u001b[1;33m)\u001b[0m\u001b[1;33m:\u001b[0m      \u001b[1;31m#each list and converts them to floats\u001b[0m\u001b[1;33m\u001b[0m\u001b[0m\n\u001b[0;32m     23\u001b[0m                 \u001b[1;31m#print x, y\u001b[0m\u001b[1;33m\u001b[0m\u001b[1;33m\u001b[0m\u001b[0m\n\u001b[1;32m---> 24\u001b[1;33m                 \u001b[1;32mif\u001b[0m \u001b[0my\u001b[0m\u001b[1;33m.\u001b[0m\u001b[0misdigit\u001b[0m\u001b[1;33m(\u001b[0m\u001b[1;33m)\u001b[0m \u001b[1;33m==\u001b[0m \u001b[0mTrue\u001b[0m\u001b[1;33m:\u001b[0m\u001b[1;33m\u001b[0m\u001b[0m\n\u001b[0m\u001b[0;32m     25\u001b[0m                     \u001b[0mfloated_pd\u001b[0m\u001b[1;33m[\u001b[0m\u001b[0ma\u001b[0m\u001b[1;33m]\u001b[0m\u001b[1;33m[\u001b[0m\u001b[0mx\u001b[0m\u001b[1;33m]\u001b[0m \u001b[1;33m=\u001b[0m \u001b[0mfloat\u001b[0m\u001b[1;33m(\u001b[0m\u001b[0my\u001b[0m\u001b[1;33m)\u001b[0m\u001b[1;33m\u001b[0m\u001b[0m\n\u001b[0;32m     26\u001b[0m \u001b[1;33m\u001b[0m\u001b[0m\n",
      "\u001b[1;31mAttributeError\u001b[0m: 'float' object has no attribute 'isdigit'"
     ]
    }
   ],
   "source": [
    "split_raw_pd = raw_pd.split('\\n')\n",
    "\n",
    "clean_data = []\n",
    "floated_pd = []\n",
    "\n",
    "#print split_raw_pd\n",
    "\n",
    "for index, value in enumerate(split_raw_pd):\n",
    "    \n",
    "    clean_data.append(value.replace('\"','')) #this removes the quotation \n",
    "                                             #marks from each value of the \n",
    "                                             #strings in the list\n",
    "#print clean_data\n",
    "\n",
    "for i in clean_data:\n",
    "    floated_pd.append(i.split(',')) #this loop splits rows by the comma \n",
    "                                    #such that there is one list for every \n",
    "                                    #row\n",
    "#print floated_pd\n",
    "            \n",
    "for a, b in enumerate(floated_pd): #this loop checks if there are digits in\n",
    "    for x, y in enumerate(b):      #each list and converts them to floats\n",
    "        #print x, y\n",
    "        if y.isdigit() == True:\n",
    "            floated_pd[a][x] = float(y)\n",
    "\n",
    "print floated_pd\n"
   ]
  },
  {
   "cell_type": "markdown",
   "metadata": {},
   "source": [
    "<img src=\"http://imgur.com/xDpSobf.png\" style=\"float: left; margin: 25px 15px 0px 0px; height: 25px\">\n",
    "\n",
    "### 8.2 Parse the raw pokedex with list comprehensions\n",
    "\n",
    "---\n",
    "\n",
    "Perform the same parsing as above, but **using only a single list comprehension** instead of for loops. You may have nested list comprehensions within the main list comprehension! The output should be exactly the same."
   ]
  },
  {
   "cell_type": "code",
   "execution_count": 196,
   "metadata": {},
   "outputs": [
    {
     "name": "stdout",
     "output_type": "stream",
     "text": [
      "[[], [], [], [], [], [], [], [], [], [], [], [], [], [], [], [], [], [], [], [], [], [], [], [], [], [], [], [], [], [], [], [], [], [], [], [], [], [], [], [], [], [], [], [], [], [], [], [], [], [], [], [], [], [], [], [], [], [], [], [], [], [], [], [], [], [], [], [], [], [], [], [], [], [], [], [], [], [], [], [], [], [], [], [], [], [], [], [], [], [], [], [], [], [], [], [], [], [], [], [], [], [], [], [], [], [], [], [], [], [], [], [], [], [], [], [], [], [], [], [], [], [], [], [], [], [], [], [], [], [], [], [], [], [], [], [], [], [], [], [], [], [], [], [], [], [], [], [], [], [], [], [], [], [], [], [], [], [], [], [], [], [], [], [], [], [], [], [], [], [], [], [], [], [], [], [], [], [], [], [], [], [], [], [], [], [], [], [], [], [], [], [], [], [], [], [], [], [], [], [], [], [], [], [], [], [], [], [], [], [], [], [], [], [], [], [], [], [], [], [], [], [], [], [], [], [], [], [], [], [], [], [], [], [], [], [], [], [], [], [], [], [], [], [], [], [], [], [], [], [], [], [], [], [], [], [], [], [], [], [], [], [], [], [], [], [], [], [], [], [], [], [], [], [], [], [], [], [], [], [], [], [], [], [], [], [], [], [], [], [], [], [], [], [], [], [], [], [], [], [], [], [], [], [], [], [], [], [], [], [], [], [], [], [], [], [], [], [], [], [], [], [], [], [], [], [], [], [], [], [], [], [], [], [], [], [], [], [], [], [], [], [], [], [], [], [], [], [], [], [], [], [], [], [], [], [], [], [], [], [], [], [], [], [], [], [], [], [], [], [], [], [], [], [], [], [], [], [], [], [], [], [], [], [], [], [], [], [], [], [], [], [], [], [], [], [], [], [], [], [], [], [], [], [], [], [], [], [], [], [], [], [], [], [], [], [], [], [], [], [], [], [], [], [], [], [], [], [], [], [], [], [], [], [], [], [], [], [], [], [], [], [], [], [], [], [], [], [], [], [], [], [], [], [], [], [], [], [], [], [], [], [], [], [], [], [], [], [], [], [], [], [], [], [], [], [], [], [], [], [], [], [], [], [], [], [], [], [], [], [], [], [], [], [], [], [], [], [], [], [], [], [], [], [], [], [], [], [], [], [], [], [], [], [], [], [], [], [], [], [], [], [], [], [], [], [], [], [], [], [], [], [], [], [], [], [], [], [], [], [], [], [], [], [], [], [], [], [], [], [], [], [], [], [], [], [], [], [], [], [], [], [], [], [], [], [], [], [], [], [], [], [], [], [], [], [], [], [], [], [], [], [], [], [], [], [], [], [], [], [], [], [], [], [], [], [], [], [], [], [], [], [], [], [], [], [], [], [], [], [], [], [], [], [], [], [], [], [], [], [], [], [], [], [], [], [], [], [], [], [], [], [], [], [], [], [], [], [], [], [], [], [], [], [], [], [], [], [], [], [], [], [], [], [], [], [], [], [], [], [], [], [], [], [], [], [], [], [], [], [], [], [], [], [], [], [], [], [], [], [], [], [], [], [], [], [], [], [], [], [], [], [], [], [], [], [], [], [], [], [], [], [], [], [], [], [], [], [], [], [], [], [], [], [], [], [], [], [], [], [], [], [], [], [], [], [], [], [], [], [], [], [], [], [], [], [], [], [], [], [], [], [], [], [], [], [], [], [], [], [], [], [], [], [], [], [], [], [], [], [], [], [], [], [], [], [], [], [], [], [], [], [], [], [], [], [], [], [], [], [], [], [], [], [], [], [], [], [], [], [], [], [], [], [], [], [], [], [], [], [], []]\n"
     ]
    }
   ],
   "source": [
    "floated_pd_compre = [[float(y) for x, y in enumerate(b) if y.isdigit == True] for a, b in enumerate(i.split(',') for i in ([value.replace('\"', '') for index, value in enumerate(raw_pd.split('\\n'))]))]\n",
    "\n",
    "print floated_pd_compre"
   ]
  },
  {
   "cell_type": "markdown",
   "metadata": {},
   "source": [
    "<img src=\"http://imgur.com/l5NasQj.png\" style=\"float: left; margin: 25px 15px 0px 0px; height: 25px\">\n",
    "\n",
    "## 9. Write a function to generate the full pokedex\n",
    "\n",
    "---\n",
    "\n",
    "Write a function that recreates the pokedex you made before, but with the data read in from the full pokemon file. The `PokedexNumber` should be used as the `pokemon_id` key values for the dictionary of pokemon.\n",
    "\n",
    "Your function should:\n",
    "\n",
    "1. Take the parsed pokedex information you created above as an argument.\n",
    "2. Return a dictionary in the same format as your original pokedex you created before containing the information from the parsed full pokedex file.\n",
    "\n",
    "To test the function, print out the pokemon with id = 100."
   ]
  },
  {
   "cell_type": "code",
   "execution_count": 155,
   "metadata": {
    "scrolled": true
   },
   "outputs": [
    {
     "name": "stdout",
     "output_type": "stream",
     "text": [
      "721\n",
      "{'Attack': 110.0,\n",
      " 'Defense': 120.0,\n",
      " 'HP': 80.0,\n",
      " 'Name': 'Volcanion',\n",
      " 'SpecialAttack': 130.0,\n",
      " 'SpecialDefense': 90.0,\n",
      " 'Speed': 70.0,\n",
      " 'Total': 600.0,\n",
      " 'Type': 'FireWater'}\n"
     ]
    }
   ],
   "source": [
    "\n",
    "\n",
    "# This function takes the cleaned pokemon data and returns \n",
    "# them in a dictionary\n",
    "\n",
    "def pokedex_creator(pokemon_database):\n",
    "    \n",
    "    header_list = []\n",
    "    value_list = []\n",
    "    combined_dict = []\n",
    "    pokedex_num_dict = {}\n",
    "    pokedex_full = {}\n",
    "\n",
    "    for index, value in enumerate(pokemon_database):\n",
    "        \n",
    "    # This step separates the header from the rest of the data by putting it \n",
    "    # in a list. The other pokemon data are appended to a separate list.\n",
    "    \n",
    "        if index == 0:\n",
    "            header_list.extend(value)\n",
    "        elif index != 0:\n",
    "            value_list.append(value)\n",
    "\n",
    "    for every_list in value_list:\n",
    "        \n",
    "        # This combines the two lists into a dictionary in the format of \n",
    "        # header:data.\n",
    "        \n",
    "        combined_dict = dict(zip(header_list, every_list))\n",
    "        #print combined_dict\n",
    "\n",
    "        for key, value in combined_dict.items(): # This pulls out all the \n",
    "                                                 #pokedex numbers of the pokemon \n",
    "                                                 #into a separate dictionary\n",
    "\n",
    "            if key == 'PokedexNumber':\n",
    "                pokedex_num_dict[\"pokedex_num\"] = value\n",
    "                #print combined_dict\n",
    "                #print pokedex_num_dict\n",
    "\n",
    "        for key, value in pokedex_num_dict.items(): # This combines the \n",
    "                                                    # pokedex numbers with the \n",
    "                                                    # pokemon data\n",
    "            #print value\n",
    "            pokedex_full[value] = combined_dict\n",
    "            #print pokedex_full\n",
    "\n",
    "        for key, value in pokedex_full.items(): # This removes the \n",
    "                                                    # pokedex numbers from within the \n",
    "                                                    # pokemon data as the pokedex\n",
    "                                                    # number is already the dictionary key\n",
    "            for k, v in value.items():\n",
    "                if k == 'PokedexNumber':\n",
    "                    del pokedex_full[key][k]\n",
    "\n",
    "    return pokedex_full\n",
    "\n",
    "updated_pokedex = pokedex_creator(floated_pd)\n",
    "print len(updated_pokedex)\n",
    "pprint(updated_pokedex[721])"
   ]
  },
  {
   "cell_type": "markdown",
   "metadata": {},
   "source": [
    "<img src=\"http://i.imgur.com/GCAf1UX.png\" style=\"float: left; margin: 25px 15px 0px 0px; height: 25px\">\n",
    "\n",
    "## 10. Write a function to generate a \"filtered\" pokedex\n",
    "---\n",
    "Your function should:\n",
    "1. Take the parsed pokedex information you created above as an argument.\n",
    "1. Take a dictionary as a parameter with keys matching the features of the Pokedex, filtering by exact match for string type values, and/or filter continuous variables specified value that is greater than or equal to the dictionary key parameter.\n",
    "1. Return multiple elements from the Pokedex\n",
    "\n",
    "Example:\n",
    "\n",
    "```python\n",
    "\n",
    "# Only filter based on parameters passed\n",
    "filter_options = {\n",
    "    'Attack':   25,\n",
    "    'Defense':  30,\n",
    "    'Type':     'Electric'\n",
    "}\n",
    "\n",
    "# Return records with attack >= 24, defense >= 30, and type == \"Electric\"\n",
    "# Also anticipate that other paramters can also be passed such as \"SpecialAttack\", \"Speed\", etc.\n",
    "filtered_pokedex(pokedex_data, filter=filter_options)\n",
    "\n",
    "# Example output:\n",
    "# [{'Attack': 30.0,\n",
    "#  'Defense': 50.0,\n",
    "#  'HP': 40.0,\n",
    "#  'Name': 'Voltorb',\n",
    "#  'SpecialAttack': 55.0,\n",
    "#  'SpecialDefense': 55.0,\n",
    "#  'Speed': 100.0,\n",
    "#  'Total': 330.0,\n",
    "#  'Type': 'Electric'},\n",
    "#  {'Attack': 30.0,\n",
    "#  'Defense': 33.0,\n",
    "#  'HP': 32.0,\n",
    "#  'Name': 'Pikachu',\n",
    "#  'SpecialAttack': 55.0,\n",
    "#  'SpecialDefense': 55.0,\n",
    "#  'Speed': 100.0,\n",
    "#  'Total': 330.0,\n",
    "#  'Type': 'Electric'},\n",
    "#  ... etc\n",
    "#  ]\n",
    "\n",
    "```\n",
    "\n"
   ]
  },
  {
   "cell_type": "code",
   "execution_count": 156,
   "metadata": {},
   "outputs": [
    {
     "ename": "KeyError",
     "evalue": "522.0",
     "output_type": "error",
     "traceback": [
      "\u001b[1;31m---------------------------------------------------------------------------\u001b[0m",
      "\u001b[1;31mKeyError\u001b[0m                                  Traceback (most recent call last)",
      "\u001b[1;32m<ipython-input-156-48ce39478b5e>\u001b[0m in \u001b[0;36m<module>\u001b[1;34m()\u001b[0m\n\u001b[0;32m     39\u001b[0m     \u001b[1;32mreturn\u001b[0m \u001b[0mstring_list\u001b[0m\u001b[1;33m\u001b[0m\u001b[0m\n\u001b[0;32m     40\u001b[0m \u001b[1;33m\u001b[0m\u001b[0m\n\u001b[1;32m---> 41\u001b[1;33m \u001b[0mtest\u001b[0m \u001b[1;33m=\u001b[0m \u001b[0msearch_pokedex_attribute\u001b[0m\u001b[1;33m(\u001b[0m\u001b[0mupdated_pokedex\u001b[0m\u001b[1;33m,\u001b[0m \u001b[0mfilter_options\u001b[0m\u001b[1;33m)\u001b[0m\u001b[1;33m\u001b[0m\u001b[0m\n\u001b[0m\u001b[0;32m     42\u001b[0m \u001b[0mpprint\u001b[0m\u001b[1;33m(\u001b[0m\u001b[0mtest\u001b[0m\u001b[1;33m)\u001b[0m\u001b[1;33m\u001b[0m\u001b[0m\n\u001b[0;32m     43\u001b[0m \u001b[1;33m\u001b[0m\u001b[0m\n",
      "\u001b[1;32m<ipython-input-156-48ce39478b5e>\u001b[0m in \u001b[0;36msearch_pokedex_attribute\u001b[1;34m(pokedex_data, search_criteria)\u001b[0m\n\u001b[0;32m     32\u001b[0m                     \u001b[1;31m#print y\u001b[0m\u001b[1;33m\u001b[0m\u001b[1;33m\u001b[0m\u001b[0m\n\u001b[0;32m     33\u001b[0m                     \u001b[1;32mif\u001b[0m \u001b[0my\u001b[0m \u001b[1;33m>\u001b[0m \u001b[0mv\u001b[0m\u001b[1;33m:\u001b[0m\u001b[1;33m\u001b[0m\u001b[0m\n\u001b[1;32m---> 34\u001b[1;33m                         \u001b[1;32mdel\u001b[0m \u001b[0mstring_list\u001b[0m\u001b[1;33m[\u001b[0m\u001b[0mkey\u001b[0m\u001b[1;33m]\u001b[0m \u001b[1;31m#for some reason the loop\u001b[0m\u001b[1;33m\u001b[0m\u001b[0m\n\u001b[0m\u001b[0;32m     35\u001b[0m                                              \u001b[1;31m#will not remove key:value\u001b[0m\u001b[1;33m\u001b[0m\u001b[1;33m\u001b[0m\u001b[0m\n\u001b[0;32m     36\u001b[0m                                              \u001b[1;31m#from the compiled dictionary.\u001b[0m\u001b[1;33m\u001b[0m\u001b[1;33m\u001b[0m\u001b[0m\n",
      "\u001b[1;31mKeyError\u001b[0m: 522.0"
     ]
    }
   ],
   "source": [
    "test_list = [['PokedexNumber', 'Name', 'Type', 'Total', 'HP', 'Attack', 'Defense', 'SpecialAttack', 'SpecialDefense', 'Speed'], [1.0, 'Bulbasaur', 'GrassPoison', 318.0, 45.0, 49.0, 49.0, 65.0, 65.0, 45.0], [2.0, 'Ivysaur', 'GrassPoison', 405.0, 60.0, 62.0, 63.0, 80.0, 80.0, 60.0], [3.0, 'Venusaur', 'GrassPoison', 525.0, 80.0, 82.0, 83.0, 100.0, 100.0, 80.0], [3.0, 'VenusaurMega Venusaur', 'GrassPoison', 625.0, 80.0, 100.0, 123.0, 122.0, 120.0, 80.0], [4.0, 'Charmander', 'Fire', 309.0, 39.0, 52.0, 43.0, 60.0, 50.0, 65.0], [5.0, 'Charmeleon', 'Fire', 405.0, 58.0, 64.0, 58.0, 80.0, 65.0, 80.0], [6.0, 'Charizard', 'FireFlying', 534.0, 78.0, 84.0, 78.0, 109.0, 85.0, 100.0], [6.0, 'CharizardMega Charizard X', 'FireDragon', 634.0, 78.0, 130.0, 111.0, 130.0, 85.0, 100.0], [6.0, 'CharizardMega Charizard Y', 'FireFlying', 634.0, 78.0, 104.0, 78.0, 159.0, 115.0, 100.0], [7.0, 'Squirtle', 'Water', 314.0, 44.0, 48.0, 65.0, 50.0, 64.0, 43.0], [8.0, 'Wartortle', 'Water', 405.0, 59.0, 63.0, 80.0, 65.0, 80.0, 58.0], [9.0, 'Blastoise', 'Water', 530.0, 79.0, 83.0, 100.0, 85.0, 105.0, 78.0], [9.0, 'BlastoiseMega Blastoise', 'Water', 630.0, 79.0, 103.0, 120.0, 135.0, 115.0, 78.0], [10.0, 'Caterpie', 'Bug', 195.0, 45.0, 30.0, 35.0, 20.0, 20.0, 45.0], [11.0, 'Metapod', 'Bug', 205.0, 50.0, 20.0, 55.0, 25.0, 25.0, 30.0], [12.0, 'Butterfree', 'BugFlying', 395.0, 60.0, 45.0, 50.0, 90.0, 80.0, 70.0], [13.0, 'Weedle', 'BugPoison', 195.0, 40.0, 35.0, 30.0, 20.0, 20.0, 50.0], [14.0, 'Kakuna', 'BugPoison', 205.0, 45.0, 25.0, 50.0, 25.0, 25.0, 35.0], [15.0, 'Beedrill', 'BugPoison', 395.0, 65.0, 90.0, 40.0, 45.0, 80.0, 75.0], [15.0, 'BeedrillMega Beedrill', 'BugPoison', 495.0, 65.0, 150.0, 40.0, 15.0, 80.0, 145.0], [16.0, 'Pidgey', 'NormalFlying', 251.0, 40.0, 45.0, 40.0, 35.0, 35.0, 56.0], [17.0, 'Pidgeotto', 'NormalFlying', 349.0, 63.0, 60.0, 55.0, 50.0, 50.0, 71.0], [18.0, 'Pidgeot', 'NormalFlying', 479.0, 83.0, 80.0, 75.0, 70.0, 70.0, 101.0], [18.0, 'PidgeotMega Pidgeot', 'NormalFlying', 579.0, 83.0, 80.0, 80.0, 135.0, 80.0, 121.0], [19.0, 'Rattata', 'Normal', 253.0, 30.0, 56.0, 35.0, 25.0, 35.0, 72.0], [20.0, 'Raticate', 'Normal', 413.0, 55.0, 81.0, 60.0, 50.0, 70.0, 97.0], [21.0, 'Spearow', 'NormalFlying', 262.0, 40.0, 60.0, 30.0, 31.0, 31.0, 70.0], [22.0, 'Fearow', 'NormalFlying', 442.0, 65.0, 90.0, 65.0, 61.0, 61.0, 100.0], [23.0, 'Ekans', 'Poison', 288.0, 35.0, 60.0, 44.0, 40.0, 54.0, 55.0], [24.0, 'Arbok', 'Poison', 438.0, 60.0, 85.0, 69.0, 65.0, 79.0, 80.0], [25.0, 'Pikachu', 'Electric', 320.0, 35.0, 55.0, 40.0, 50.0, 50.0, 90.0], [26.0, 'Raichu', 'Electric', 485.0, 60.0, 90.0, 55.0, 90.0, 80.0, 110.0], [27.0, 'Sandshrew', 'Ground', 300.0, 50.0, 75.0, 85.0, 20.0, 30.0, 40.0], [28.0, 'Sandslash', 'Ground', 450.0, 75.0, 100.0, 110.0, 45.0, 55.0, 65.0]]\n",
    "\n",
    "test_pokedex = pokedex_creator(test_list)\n",
    "#pprint(test_pokedex)\n",
    "\n",
    "filter_options = {\n",
    "    'Attack':   50,\n",
    "    'Defense':  30,\n",
    "    'Type':     'Electric'\n",
    "}\n",
    "\n",
    "def search_pokedex_attribute(pokedex_data, search_criteria):\n",
    "    \n",
    "    string_list = {}\n",
    "    \n",
    "    for key, value in pokedex_data.items():\n",
    "        #print key, value\n",
    "        for k, v in value.items():\n",
    "            #print k\n",
    "            for x, y in search_criteria.items():\n",
    "                #print x, y\n",
    "                if x in k:\n",
    "                    #print x\n",
    "                    if type(y) is str:\n",
    "                        if y == v:\n",
    "                            string_list[key] = value\n",
    "   \n",
    "    for key, value in string_list.items():\n",
    "        for k, v in value.items():\n",
    "            for x, y in search_criteria.items():\n",
    "                if type(y) is int:\n",
    "                    #print y\n",
    "                    if y > v:\n",
    "                        del string_list[key] #for some reason the loop \n",
    "                                             #will not remove key:value \n",
    "                                             #from the compiled dictionary.\n",
    "                                             #Will return 'KeyError'.\n",
    "    \n",
    "    return string_list       \n",
    "\n",
    "test = search_pokedex_attribute(updated_pokedex, filter_options)                        \n",
    "pprint(test)\n",
    "\n",
    "        "
   ]
  },
  {
   "cell_type": "markdown",
   "metadata": {
    "collapsed": true
   },
   "source": [
    "\n",
    "## 9. Descriptive statistics on the prototype pokedex\n",
    "\n",
    "<img src=\"http://imgur.com/l5NasQj.png\" style=\"float: left; margin: 25px 15px 0px 0px; height: 25px\">\n",
    "### 9.1\n",
    "\n",
    "What is the population mean and standard deviation of the \"Total\" attribute for all characters in the Pokedex?\n",
    "\n"
   ]
  },
  {
   "cell_type": "code",
   "execution_count": 176,
   "metadata": {},
   "outputs": [
    {
     "name": "stdout",
     "output_type": "stream",
     "text": [
      "Population mean is:  424.950069348\n",
      "Standard deviation is:  118.711775818\n"
     ]
    }
   ],
   "source": [
    "#pprint(test_pokedex)\n",
    "\n",
    "import numpy as np\n",
    "\n",
    "total_power = [] \n",
    "\n",
    "def mean_pokemon_power(pokedex):\n",
    "   \n",
    "    for key, value in pokedex.items():\n",
    "        for k, v in value.items():\n",
    "            if k == 'Total':\n",
    "                total_power.append(v)         \n",
    "    #print total_power                            \n",
    "    return (sum(total_power) / len(total_power))\n",
    "\n",
    "\n",
    "\n",
    "mean_power = mean_pokemon_power(updated_pokedex)\n",
    "print \"Population mean is: \", mean_power\n",
    "\n",
    "standard_deviation = np.std(total_power)\n",
    "print \"Standard deviation is: \", standard_deviation"
   ]
  },
  {
   "cell_type": "markdown",
   "metadata": {},
   "source": [
    "<img src=\"http://imgur.com/l5NasQj.png\" style=\"float: left; margin: 25px 15px 0px 0px; height: 25px\">\n",
    "### 9.2\n",
    "\n",
    "The game is no fun if the characters are wildly unbalanced! Are any characters \"overpowered\", which we'll define as having a \"Total\" more than three standard deviations from the population mean?"
   ]
  },
  {
   "cell_type": "code",
   "execution_count": 162,
   "metadata": {},
   "outputs": [
    {
     "name": "stdout",
     "output_type": "stream",
     "text": [
      "781.085396801\n",
      "{}\n"
     ]
    }
   ],
   "source": [
    "overpowered = mean_power + standard_deviation * 3\n",
    "print overpowered\n",
    "\n",
    "overpowered_pokemon = {}\n",
    "\n",
    "for key, value in updated_pokedex.items():\n",
    "    for k, v in value.items():\n",
    "        if k == 'Total':\n",
    "            #print v\n",
    "            if v > overpowered:\n",
    "                overpowered_pokemon[key] = value\n",
    "                \n",
    "print overpowered_pokemon\n",
    "            \n",
    "            "
   ]
  },
  {
   "cell_type": "markdown",
   "metadata": {},
   "source": [
    "<img src=\"http://imgur.com/xDpSobf.png\" style=\"float: left; margin: 25px 15px 0px 0px; height: 25px\">\n",
    "\n",
    "## 10. Calibrate the frequency of Pokemon\n",
    "\n",
    "The design team wants you to make the powerful Pokemon rare, and the weaklings more common. How would you set the probability $p_i$ of finding Pokemon *i* each time a player visits a gym?\n",
    "\n",
    "Write a function that takes in a Pokedex number and returns a value $p_i$ for that character.\n",
    "\n",
    "Hint: there are many ways you could do this. What do _you_ think makes sense? Start with simplifying assumptions: for example, you could assume that the probabilities of encountering any two Pokemon on one visit to a gym are independent of each other."
   ]
  },
  {
   "cell_type": "code",
   "execution_count": 175,
   "metadata": {},
   "outputs": [
    {
     "name": "stdout",
     "output_type": "stream",
     "text": [
      "Probability = 89.899%\n"
     ]
    }
   ],
   "source": [
    "# The higher the power of the pokemon, the lower the probability of finding it.\n",
    "\n",
    "total_power_sorted = sorted(total_power)\n",
    "\n",
    "#def probability_of_finding_pokemon(pokedex_num):\n",
    "\n",
    "probability = []\n",
    "\n",
    "for key, value in updated_pokedex.items():\n",
    "    #print key\n",
    "    if 51.0 == key:\n",
    "        for k, v in value.items():\n",
    "            if k == 'Total':\n",
    "                if v > mean_power + (standard_deviation * 2):\n",
    "                    \n",
    "                    print \"Probability = 0.001%\"\n",
    "                    \n",
    "                elif v > mean_power + (standard_deviation):\n",
    "                    \n",
    "                    print \"Probability = 0.1%\"\n",
    "                    \n",
    "                elif v > mean_power:\n",
    "                    \n",
    "                    print \"Probability = 10%\"\n",
    "                    \n",
    "                elif v < mean_power:\n",
    "                    \n",
    "                    print \"Probability = 89.899%\""
   ]
  },
  {
   "cell_type": "code",
   "execution_count": null,
   "metadata": {
    "collapsed": true
   },
   "outputs": [],
   "source": []
  }
 ],
 "metadata": {
  "anaconda-cloud": {},
  "kernelspec": {
   "display_name": "Python 2",
   "language": "python",
   "name": "python2"
  },
  "language_info": {
   "codemirror_mode": {
    "name": "ipython",
    "version": 2
   },
   "file_extension": ".py",
   "mimetype": "text/x-python",
   "name": "python",
   "nbconvert_exporter": "python",
   "pygments_lexer": "ipython2",
   "version": "2.7.14"
  }
 },
 "nbformat": 4,
 "nbformat_minor": 1
}
